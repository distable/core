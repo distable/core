{
 "cells": [
  {
   "cell_type": "code",
   "execution_count": null,
   "id": "711a3c7b-6594-4620-b87c-12566b59d502",
   "metadata": {},
   "outputs": [],
   "source": [
    "# SVMD test using signal 1 from the paper:\n",
    "# 'A Sequential Variational Mode Decomposition Method'.\n",
    "\n",
    "# Import modules\n",
    "import numpy as np\n",
    "import sys\n",
    "sys.path.insert(0, '..')\n",
    "from modules.tfa import rfft_mf, hilbert_af\n",
    "from modules.tfa_svmd import svmd, svmd_refined\n",
    "from modules.plot import plot, subplots, plot_modes"
   ]
  },
  {
   "cell_type": "code",
   "execution_count": null,
   "id": "e61b76fc-81ba-4c55-af14-b48bf9d2bcc9",
   "metadata": {},
   "outputs": [],
   "source": [
    "# Define signal\n",
    "sr, du, du_extend = 5000, 1.0, 0.2\n",
    "y_size = int(sr*(du+2*du_extend))\n",
    "t = np.arange(y_size)/sr - du_extend\n",
    "y1 = 2*t\n",
    "y2 = 0.5*np.exp(-5*np.square(t-0.5))*np.sin(200*np.pi*t)\n",
    "y3 = np.sin(100*np.pi*t-10*np.pi*np.square(t))\n",
    "y4 = np.random.normal(scale=0.1, size=t.size)\n",
    "y = np.sum([y1,y2,y3,y4], axis=0)\n",
    "#y = np.load('signal 1 extended.npy')\n",
    "#np.save('signal 1 extended.npy', y)"
   ]
  },
  {
   "cell_type": "code",
   "execution_count": null,
   "id": "34280d4e-ba30-4253-a6a6-23fc297d4998",
   "metadata": {},
   "outputs": [],
   "source": [
    "# Set parameters\n",
    "nmode = 3\n",
    "merge_range = 1.5\n",
    "out_thr, in_thr = 1e-5, 1e-10\n",
    "out_iter_max, in_iter_max = 3, 150\n",
    "alpha, beta = 1., 0.75e-2"
   ]
  },
  {
   "cell_type": "code",
   "execution_count": null,
   "id": "9b2e5f0c-432d-4fa9-ac70-db3aa0434c20",
   "metadata": {
    "code_folding": [],
    "tags": []
   },
   "outputs": [],
   "source": [
    "# Decompose\n",
    "y_rfft, y_rfftf = rfft_mf(y, sr)\n",
    "Modes, res = svmd(y, sr, out_thr, in_thr, out_iter_max, in_iter_max, alpha, beta)\n",
    "#Modes, res = svmd_refined(y, sr, nmode, merge_range, out_thr, in_thr, out_iter_max, in_iter_max, alpha, beta)\n",
    "res_rfft, res_rfftf = rfft_mf(res, sr)\n",
    "Modes_rfft, Modes_rfftf = rfft_mf(Modes, sr, axis=1)\n",
    "am, fm = hilbert_af(Modes, sr, axis=1)"
   ]
  },
  {
   "cell_type": "code",
   "execution_count": null,
   "id": "fd1f24c6-4429-4b99-831a-2366ed0d3dff",
   "metadata": {},
   "outputs": [],
   "source": [
    "# Plot\n",
    "%matplotlib ipympl\n",
    "plot(y_rfft, y_rfftf, title='original signal spectrum', xlabel='frequency', ylabel='magnitude')\n",
    "plot(res_rfft, res_rfftf, title='SVMD residual spectrum', xlabel='frequency', ylabel='magnitude')\n",
    "\n",
    "plot_modes(np.array([y1, y2, y3]), t, y, y4, title='original signal and modes')\n",
    "plot_modes(Modes, t, y, res, title='SVMD decomposed modes')\n",
    "\n",
    "subplots(Modes_rfft, Modes_rfftf, title='SVMD modes rfft', subtitle='mode', \\\n",
    "         xlabel='frequency', ylabel='magnitude')\n",
    "subplots(am, t, title='SVMD instantaneous amplitude (envelope)', subtitle='mode', \\\n",
    "         xlabel='time', ylabel='amplitude')\n",
    "subplots(fm, t[:-1], title='SVMD instantaneous frequency', subtitle='mode', \\\n",
    "         xlabel='time', ylabel='frequency')"
   ]
  },
  {
   "cell_type": "code",
   "execution_count": null,
   "id": "6c3f6f75-82f0-44ec-9f37-8b8068d26612",
   "metadata": {},
   "outputs": [],
   "source": []
  }
 ],
 "metadata": {
  "kernelspec": {
   "display_name": "Python 3 (ipykernel)",
   "language": "python",
   "name": "python3"
  },
  "language_info": {
   "codemirror_mode": {
    "name": "ipython",
    "version": 3
   },
   "file_extension": ".py",
   "mimetype": "text/x-python",
   "name": "python",
   "nbconvert_exporter": "python",
   "pygments_lexer": "ipython3",
   "version": "3.11.1"
  },
  "vscode": {
   "interpreter": {
    "hash": "78eddeeb736d73378daec73089047061bd374c0ff25e11fe07c60b901ee0c875"
   }
  }
 },
 "nbformat": 4,
 "nbformat_minor": 5
}
